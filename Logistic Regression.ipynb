{
 "cells": [
  {
   "cell_type": "markdown",
   "metadata": {},
   "source": [
    "# Logistic Regression\n",
    "\n",
    "Time for some learning.  This file contains my implementations of several methods used in creating and testing a binary logistic regression function.  \n",
    "* A method for loading data into the design matrix.\n",
    "* ... computing the sigmoid function,\n",
    "* ... computing the gradient of the sigmoid function,\n",
    "* ... computing the Hessian of the sigmoid function,\n",
    "* ... computing the diagonal expected value matrix used in the Hessian computation,\n",
    "* a steepest descent with and without a momentum term to update weights, and\n",
    "* an iteratively reweighted least squares update method (bug: has problems with singular matrices).\n",
    "\n",
    "The file also contains the following synthetic test material:\n",
    "* A synthetic data constructor for normally distributed random vectors,\n",
    "* labels generated for the synthetic data, and\n",
    "* plots of 1-D regressor weights from the fitting process on the synthetic data.\n",
    "\n",
    "The file also contains the following real-data tests:\n",
    "* Data from the Donner Party taken from *Introduction to Regression Modeling by Abraham and Ledolter (2006), pg 368*\n",
    "* A fitting of regressors on said data, and\n",
    "* classifiers from SK-Learn for comparison and validation of the methods herein.\n",
    "\n",
    "Lastly, the file contains my application of the logistic regression classifiers to the SE Data for Albany from a previous project.\n"
   ]
  },
  {
   "cell_type": "markdown",
   "metadata": {},
   "source": [
    "#### Loading the necessary libraries:"
   ]
  },
  {
   "cell_type": "code",
   "execution_count": 1,
   "metadata": {},
   "outputs": [],
   "source": [
    "import math\n",
    "import numpy as np\n",
    "import matplotlib.pyplot as plt\n",
    "import scipy\n",
    "import pandas as pd\n",
    "from sklearn.preprocessing import MaxAbsScaler\n",
    "import random\n",
    "\n",
    "from sklearn.linear_model import LogisticRegression\n",
    "from sklearn.metrics import classification_report, confusion_matrix"
   ]
  },
  {
   "cell_type": "markdown",
   "metadata": {},
   "source": [
    "#### Implementations of the aforementioned methods:"
   ]
  },
  {
   "cell_type": "code",
   "execution_count": 2,
   "metadata": {},
   "outputs": [],
   "source": [
    "def loadData(listX):\n",
    "    '''Expects listX to be a list, array, or tuple of N vectors D x 1.\n",
    "    \n",
    "    Loads them into the design matrix [1 x0 x2 x3 ... xD-1]\n",
    "    with dimensions N x D.'''\n",
    "    \n",
    "    X = np.ones([len(listX),listX[0].shape[0]+1])\n",
    "    for row in range(X.shape[0]):\n",
    "        for col in range(X.shape[1]):\n",
    "            if col != 0:\n",
    "                X[row,col] = listX[row][col-1]\n",
    "    return X\n",
    "\n",
    "def sigm(x,w):\n",
    "    '''Assumes:\n",
    "    x is a (N+1) x 1 vector random variable w/ x0 = 1: (1 x1 x2 ... xN).\n",
    "    w is a (N+1) x 1 vector of weights (w0 w1 w2 ... wN).\n",
    "    \n",
    "    Returns the sigmoid function 1/(1+e^(-w^T*x)).'''\n",
    "    sum = 0\n",
    "    for i in range(len(x)):\n",
    "        sum = sum + x[i]*w[i]\n",
    "    return 1/(1+np.exp(-sum))\n",
    "\n",
    "def gSigm(X,w,y):\n",
    "    '''Assumes X is a matrix of the data padded with 1s, i.e.\n",
    "    for data set {x_1,...,x_n} of vectors, X = (1 x1 \\\\ 1 x2 \\\\ ... \\\\ 1 xn)\n",
    "    where each vector forms most of a row of X.\n",
    "    and\n",
    "    y is a vector of the binary class labels.\n",
    "    \n",
    "    Returns the gradient vector of the sigmoid funciton.'''\n",
    "\n",
    "    mu = np.array([sigm(X[i],w) for i in range(X.shape[0])])\n",
    "    \n",
    "    diff = np.zeros(len(y))\n",
    "    for i in range(len(y)):\n",
    "        diff[i]=mu[i]-y[i]\n",
    "    return np.matmul(X.T,diff).reshape(-1,1)\n",
    "\n",
    "def S(X,w):\n",
    "    '''The diagonal matrix S weighted with mu(1-mu) along the diagonal.'''\n",
    "    S = np.zeros([X.shape[0],X.shape[0]])\n",
    "    for i in range(X.shape[0]):\n",
    "        S[i][i] = sigm(X[i],w)*(1-sigm(X[i],w))\n",
    "    return S\n",
    "\n",
    "def hSigm(X,w):\n",
    "    '''The hessian matrix of the sigmoid function.'''\n",
    "    return np.matmul(np.matmul(X.T,S(X,w)),X)\n",
    "\n",
    "def predict(X,w,bound=0.5):\n",
    "    '''Predicts labels for data in X using weight w.\n",
    "    \n",
    "    bound is the cutoff probability required for classification\n",
    "    as class 1.  I.E. if sigm(x,w) > bound, it is class 1.'''\n",
    "    \n",
    "    return np.array([1 if sigm(X[i].reshape(-1,1),w) >bound else 0 for i in range(X.shape[0])]).reshape(-1,1)\n",
    "\n",
    "# Updating methods for weights\n",
    "# steepDesc:     fixed step size in the steepest direction.\n",
    "# steepDescMom:  fixed step size with momentum term importance*(w_i-w_(i-1))\n",
    "# IRLS:          Iteratively reweighted least squares.  Runs into singular matrices\n",
    "#                quite quickly.  Needs to detect this and switch methods in until a\n",
    "#                non-singular matrix is found again. - Tony\n",
    "#                Done! But it goes haywire still. - Future Tony\n",
    "def steepDesc(X,w,y,stepsize):\n",
    "    ''' Just a simplest unconstrained optimization algorithm:\n",
    "    follow the gradient.'''\n",
    "    grad = gSigm(X,w,y)\n",
    "    diff = np.zeros(len(w)).reshape(-1,1)\n",
    "    for i in range(len(w)):\n",
    "        diff[i] = w[i]-stepsize*grad[i]\n",
    "    return diff\n",
    "\n",
    "def steepDescMom(X,w1,w0,y,stepsize,importance):\n",
    "    '''The same as above with a little momentum to carry things\n",
    "    forward.'''\n",
    "    return w1-stepsize*gSigm(X,w1,y)+importance*(w1-w0)\n",
    "\n",
    "def IRLS(X,w,y,stepsize=1):\n",
    "    #Needs some work.  Gives crazy results.  Need to verify that it is written as intended.\n",
    "    '''Iteratively reweighted least squares.'''\n",
    "    \n",
    "    # An attempt to use the validated steepest descent in the case where a singular matrix is found.\n",
    "    # This does not fix the problem.\n",
    "    try:\n",
    "        inv = np.linalg.inv(np.matmul(np.matmul(X.T,S(X,w)),X))\n",
    "    except:\n",
    "        #print(\"Singular matrix encountered.  Using steepest descent algorithm for this iteration.\")\n",
    "        return steepDesc(X,w,y,stepsize)\n",
    "    left = np.matmul(inv,X.T)\n",
    "    \n",
    "    mu = np.array([sigm(X[i],w) for i in range(X.shape[0])])\n",
    "    \n",
    "    diff = np.zeros(len(y)).reshape(-1,1)\n",
    "    for i in range(len(y)):\n",
    "        diff[i]=mu[i]-y[i]\n",
    "        \n",
    "    right = np.matmul(np.matmul(S(X,w),X),w)+diff\n",
    "   \n",
    "    return np.matmul(left,right)"
   ]
  },
  {
   "cell_type": "markdown",
   "metadata": {},
   "source": [
    "#### Synthetic Data Construction\n",
    "Below you'll find the construction of vectors of normally distributed data *listXTrue* as well as their predicted labels from the sigmoid function and a 0.5 cutoff probability."
   ]
  },
  {
   "cell_type": "code",
   "execution_count": 3,
   "metadata": {},
   "outputs": [],
   "source": [
    "# Constructing data:\n",
    "dim = 1\n",
    "N = 100\n",
    "#np.random.seed(1)\n",
    "wTrue = np.array([3,14]).reshape(-1,1)\n",
    "listXTrue = np.array([np.array([np.random.normal()]) for i in range(1000)])\n",
    "XTrue = loadData(listXTrue)\n",
    "Y = np.array([1 if sigm(XTrue[i].reshape(-1,1),wTrue) >0.5 else 0 for i in range(XTrue.shape[0])]).reshape(-1,1)\n",
    "#w0 = np.ones(dim+1).reshape(-1,1)"
   ]
  },
  {
   "cell_type": "markdown",
   "metadata": {},
   "source": [
    "#### Fitting Regressors\n",
    "Here we fit two regressors.  One with the steepest descent and another with the momentum weighted steepest descent. \n",
    "\n",
    "There is also a plot of the weights to show their evolution as the process of fitting iterates."
   ]
  },
  {
   "cell_type": "code",
   "execution_count": 4,
   "metadata": {},
   "outputs": [
    {
     "name": "stdout",
     "output_type": "stream",
     "text": [
      "Steepest Descent Classifier Accuracy: 1.0\n",
      "Steep Desc w/ Momentum Classifier Accuracy: 1.0\n"
     ]
    },
    {
     "data": {
      "image/png": "[encoded data removed]",
      "text/plain": [
       "<Figure size 432x288 with 1 Axes>"
      ]
     },
     "metadata": {
      "needs_background": "light"
     },
     "output_type": "display_data"
    }
   ],
   "source": [
    "startW = np.ones(dim+1).reshape(-1,1)\n",
    "w = [startW]\n",
    "q = [startW,startW]\n",
    "r = [startW]\n",
    "stepsize = 1\n",
    "importance = .1\n",
    "\n",
    "# Run the chosen algorithm a certain number of times.\n",
    "for i in range(1000):\n",
    "    w.append(steepDesc(XTrue,w[-1],Y,stepsize))\n",
    "    q.append(steepDescMom(XTrue,q[-1],q[-2],Y,stepsize,importance))\n",
    "        \n",
    "# Use the last weights found to predict labels.\n",
    "yPred1 = predict(XTrue,w[-1])\n",
    "yPred2 = predict(XTrue,q[-1])\n",
    "\n",
    "# Compute the accuracy of the classifier from the predictions.\n",
    "accuracy1 = abs(yPred1-Y)\n",
    "accuracy2 = abs(yPred2-Y)\n",
    "print(\"Steepest Descent Classifier Accuracy: \"+str((len(accuracy1)-accuracy1.sum())/len(accuracy1)))\n",
    "print(\"Steep Desc w/ Momentum Classifier Accuracy: \"+str((len(accuracy2)-accuracy2.sum())/len(accuracy2)))\n",
    "\n",
    "#Plot the path of weights.\n",
    "plt.plot(*zip(*w),label=\"Steepest Descent\")\n",
    "plt.plot(*zip(*q),label=\"Steep Desc w/ Mom\")\n",
    "plt.xlabel(\"Intercept Weight b_0\")\n",
    "plt.ylabel(\"Slope Weight b_1\")\n",
    "plt.title(\"Evolution of Weights for Logistic Regression\")\n",
    "plt.legend()\n",
    "plt.show()"
   ]
  },
  {
   "cell_type": "markdown",
   "metadata": {},
   "source": [
    "#### Donner Party Data Fitting\n",
    "Our processes have been shown to work on synthetic data, but how will they work with real data?  Let's check it with data taken from a text book of mine on the Donner party.  "
   ]
  },
  {
   "cell_type": "code",
   "execution_count": 5,
   "metadata": {},
   "outputs": [
    {
     "name": "stdout",
     "output_type": "stream",
     "text": [
      "Steepest Descent Classifier Accuracy: 0.7111111111111111\n",
      "Steep Desc w/ Momentum Classifier Accuracy: 0.6888888888888889\n",
      "Steepest Desc Coefficients: [[235.15018614 299.45259928 -14.26617122]]\n",
      "Steep Desc Mom Coefficients: [[262.12693985 336.75269535 -21.83166139]]\n"
     ]
    }
   ],
   "source": [
    "donnerX = np.array([np.array([0,0,0,23]),np.array([1,1,1,40]),np.array([1,0,0,40]),np.array([0,0,0,30]),np.array([0,0,0,28]),\n",
    "                    np.array([0,0,0,40]),np.array([1,1,1,45]),np.array([1,0,0,62]), np.array([1,0,0,65]),np.array([1,1,1,45]),\n",
    "                    np.array([1,1,1,25]),np.array([1,0,0,28]),np.array([0,0,0,28]),np.array([1,0,0,23]),np.array([1,1,1,22]),\n",
    "                    np.array([1,1,1,23]),np.array([1,0,0,28]),np.array([1,1,1,15]),np.array([1,1,1,47]),np.array([1,0,0,57]),\n",
    "                    np.array([1,1,1,20]),np.array([1,0,0,18]),np.array([0,0,0,25]),np.array([0,0,0,60]),np.array([0,0,0,25]),\n",
    "                    np.array([0,0,0,20]),np.array([1,0,0,32]),np.array([1,1,1,32]),np.array([1,1,1,24]),np.array([1,0,0,30]),\n",
    "                    np.array([1,0,0,15]),np.array([1,1,1,50]),np.array([1,1,1,21]),np.array([1,0,0,25]),np.array([1,0,0,46]),\n",
    "                    np.array([1,1,1,32]),np.array([0,0,0,30]),np.array([0,0,0,25]),np.array([0,0,0,25]),np.array([0,0,0,25]),\n",
    "                    np.array([0,0,0,30]),np.array([0,0,0,35]),np.array([0,0,0,23]),np.array([1,0,0,24]),np.array([1,1,1,25])])\n",
    "donnerY = np.array([0,1,1,0,0,0,0,0,0,0,0,1,0,0,1,1,1,1,0,0,1,1,0,0,1,1,1,1,1,1,0,0,1,0,1,1,0,0,0,0,0,0,1,0,1]).reshape(-1,1)\n",
    "donnerX = loadData(donnerX)\n",
    "dim = donnerX[:,[0,2,4]].shape[1]\n",
    "startW = np.zeros(dim).reshape(-1,1)\n",
    "donnerW = [startW]\n",
    "donnerQ = [startW,startW]\n",
    "stepsize = .1\n",
    "importance = .1\n",
    "\n",
    "# Run the chosen algorithm a certain number of times.\n",
    "for i in range(1000):\n",
    "    donnerW.append(steepDesc(donnerX[:,[0,2,4]],donnerW[-1],donnerY,stepsize))\n",
    "    donnerQ.append(steepDescMom(donnerX[:,[0,2,4]],donnerQ[-1],donnerQ[-2],donnerY,stepsize,importance))\n",
    "        \n",
    "# Use the last weights found to predict labels.\n",
    "donnerPred1 = predict(donnerX[:,[0,2,4]],donnerW[-1])\n",
    "donnerPred2 = predict(donnerX[:,[0,2,4]],donnerQ[-1])\n",
    "\n",
    "# Compute the accuracy of the classifier from the predictions.\n",
    "daccuracy1 = abs(donnerPred1-donnerY)\n",
    "daccuracy2 = abs(donnerPred2-donnerY)\n",
    "print(\"Steepest Descent Classifier Accuracy: \"+str((len(daccuracy1)-daccuracy1.sum())/len(daccuracy1)))\n",
    "print(\"Steep Desc w/ Momentum Classifier Accuracy: \"+str((len(daccuracy2)-daccuracy2.sum())/len(daccuracy2)))\n",
    "print(\"Steepest Desc Coefficients: \"+str(donnerW[-1].T))\n",
    "print(\"Steep Desc Mom Coefficients: \"+str(donnerQ[-1].T))"
   ]
  },
  {
   "cell_type": "markdown",
   "metadata": {},
   "source": [
    "Not fantastic.  Looks like it performs as well as the Donner party did. However, let's check to see how a prebuilt logistic regressor suite handles the data as well.  Below you'll find the SK-Learn implementation and results.  "
   ]
  },
  {
   "cell_type": "code",
   "execution_count": 6,
   "metadata": {},
   "outputs": [
    {
     "name": "stdout",
     "output_type": "stream",
     "text": [
      "Accuracy 0.7777777777777778\n",
      "Coefficients [[ 0.81655514  1.59729146 -0.07820374]]\n"
     ]
    }
   ],
   "source": [
    "clf = LogisticRegression(solver='newton-cg',penalty='none').fit(donnerX[:,[0,2,4]], donnerY.ravel())\n",
    "predSK = clf.predict(donnerX[:,[0,2,4]]).reshape(-1,1)\n",
    "accuracySK = (len(predSK)-abs(predSK-donnerY).sum())/len(predSK)\n",
    "print(\"Accuracy \" + str(accuracySK))\n",
    "print(\"Coefficients \" + str(clf.coef_))"
   ]
  },
  {
   "cell_type": "markdown",
   "metadata": {},
   "source": [
    "#### More Real Data: Albany (Socioeconomic Data)\n",
    "Recently did a project on socioeconomic data analysis for Albany trying to determine which features of census data best predict the location of the free food fridges in Albany. There were mixed results using KNN and checking all combinations of features of computationally intractable.  Let's see how logistic regression handles it and which features it picks out when told to look through all the features.  Then we can see how it compares to the feature-sets which were found by KNN."
   ]
  },
  {
   "cell_type": "code",
   "execution_count": 7,
   "metadata": {},
   "outputs": [],
   "source": [
    "dataFrame = pd.read_csv(\"Dataset.csv\")\n",
    "fullfeaturelist = ['nei_final_simple','walk_score','transit_score','bike_score','population',\n",
    "           'population_density','household_income','marital_status_married','marital_status_separated_divorce',\n",
    "           'marital_status_widowed','marital_status_never_married','white_popl',\n",
    "            'hispanic_popl','black_popl','asian_popl','mixed_popl','other_popl','food_stamps_total',\n",
    "            'educational_attainment_no_hs','educational_attainment_bachelors','educational_attainment_very_advanced_degrees',\n",
    "            'household_type_married_count', 'household_type_single_female_count',\n",
    "            'household_type_single_male_count','household_type_one_person_count',\n",
    "            'household_type_other_non_family_count','household_type_with_children','Age_0_to_17','Age_18_to_21',\n",
    "            'Age_22_to_29','Age_30_to_39','Age_40_to_49','Age_50_to_59','Age_60_to_69','Age_70_to_79','Age_80_older']\n",
    "\n",
    "featurelist = fullfeaturelist[1:]\n",
    "\n",
    "# A new dataframe after removing job sector data since much of this is missing across many neighborhoods.\n",
    "dfFull = dataFrame[fullfeaturelist]\n",
    "# Taking out Pastures Neighborhood because of large lack of data.\n",
    "df = pd.DataFrame(dfFull[dfFull['nei_final_simple']!= 'Pastures'],columns = fullfeaturelist)\n",
    "# Taking out West End Neighborhood because of large lack of data.\n",
    "df = pd.DataFrame(df[df['nei_final_simple'] != 'West End'],columns = fullfeaturelist)\n",
    "df.reset_index(drop = True, inplace=True)\n",
    "\n",
    "scaler = MaxAbsScaler()\n",
    "scaler.fit(df[featurelist])\n",
    "scaledData = scaler.transform(df[featurelist])\n",
    "dfScaled = pd.DataFrame(scaledData,columns=featurelist)\n",
    "dfScaled['nei_final_simple']=df['nei_final_simple']\n",
    "dfScaled.insert(0,'Ones',1)\n",
    "\n",
    "# Labels WITHOUT Eagle Hill and Pastures included.\n",
    "dfScaled.loc[:,'fridge_count'] = pd.Series(np.array([1,0,0,0,1,0,0,1,0,0,0,0,1,0,0,0,0,1,0,0,0,0,0,0,0,0]),index=dfScaled.index)"
   ]
  },
  {
   "cell_type": "code",
   "execution_count": 8,
   "metadata": {},
   "outputs": [
    {
     "name": "stdout",
     "output_type": "stream",
     "text": [
      "Average Accuracy: 0.7003333333333339\n"
     ]
    }
   ],
   "source": [
    "fridgeX = np.array(dfScaled[['Ones',*featurelist]])\n",
    "fridgeY = np.array(dfScaled['fridge_count']).reshape(-1,1)\n",
    "dim = fridgeX.shape[1]\n",
    "startW = np.zeros(dim).reshape(-1,1)\n",
    "stepsize = .1\n",
    "importance = .1\n",
    "\n",
    "testcount = 3\n",
    "accList = []\n",
    "for k in range(500):\n",
    "    fridgeW = [startW]\n",
    "        \n",
    "    trainIndices = random.sample(list(np.arange(fridgeX.shape[0])),len(fridgeY)-testcount)\n",
    "    trainIndices = [*trainIndices,0,1] #Need to include at least one class 1 and 0 in training.\n",
    "    testIndices = [i for i in range(fridgeX.shape[0]) if i not in trainIndices]\n",
    "    fridgeXTrain = fridgeX[trainIndices]\n",
    "    fridgeXTest = fridgeX[testIndices]\n",
    "    fridgeYTrain = fridgeY[trainIndices]\n",
    "    fridgeYTest = fridgeY[testIndices]\n",
    "\n",
    "# Run the chosen algorithm a certain number of times.\n",
    "# We will leave out the last five neighborhoods for testing.\n",
    "    for i in range(200):\n",
    "        fridgeW.append(steepDesc(fridgeXTrain,fridgeW[-1],fridgeYTrain,stepsize))\n",
    "        \n",
    "# Use the last weights found to predict labels.\n",
    "    fridgePred1 = predict(fridgeXTest,fridgeW[-1])\n",
    "\n",
    "# Compute the accuracy of the classifier from the predictions.\n",
    "    fridgeaccuracy1 = abs(fridgePred1-fridgeYTest)\n",
    "    \n",
    "    accList.append((len(fridgeaccuracy1)-fridgeaccuracy1.sum())/len(fridgeaccuracy1))\n",
    "print(\"Average Accuracy: \"+str(sum(accList)/len(accList)))"
   ]
  },
  {
   "cell_type": "markdown",
   "metadata": {},
   "source": [
    "First, I'd like to say just how good this is at first blush.  KNN struggled to get accuracies close to 0.80 with a lot of tweaking and selecting precise features.  This method obtains descent results when using all features out of the gate."
   ]
  },
  {
   "cell_type": "code",
   "execution_count": 9,
   "metadata": {},
   "outputs": [
    {
     "name": "stdout",
     "output_type": "stream",
     "text": [
      "Average Accuracy: 0.6786405044231133\n"
     ]
    }
   ],
   "source": [
    "accList = []\n",
    "testcount=3\n",
    "for k in range(500):\n",
    "    trainIndices = random.sample(list(np.arange(fridgeX.shape[0])),testcount)\n",
    "    trainIndices = [*trainIndices,0,1] #Need to include at least one class 1 and 0 in training.\n",
    "    testIndices = [i for i in range(fridgeX.shape[0]) if i not in trainIndices]\n",
    "    fridgeXTrain = fridgeX[trainIndices]\n",
    "    fridgeXTest = fridgeX[testIndices]\n",
    "    fridgeYTrain = fridgeY[trainIndices]\n",
    "    fridgeYTest = fridgeY[testIndices]\n",
    "\n",
    "    clf = LogisticRegression(solver='newton-cg',penalty='none').fit(fridgeXTrain, fridgeYTrain.ravel())\n",
    "    predSK = clf.predict(fridgeXTest)\n",
    "    accList.append((len(predSK)-abs(predSK.reshape(-1,1)-fridgeYTest).sum())/len(predSK))\n",
    "    \n",
    "print(\"Average Accuracy: \"+str(sum(accList)/len(accList)))"
   ]
  },
  {
   "cell_type": "markdown",
   "metadata": {},
   "source": [
    "And the prebuilt stuff for logistic regression is noticeably faster than that for KNN.  Would have had better results sooner.  Now, let's check some known sets of features which provide very good KNN classifiers ($acc > 0.90$).\n",
    "\n",
    "Here are just some of the five feature sets with over 0.90 accuracy\n",
    "* 'bike_score', 'population_density', 'other_popl', 'household_type_married_count', 'household_type_one_person_count'\n",
    "* 'population_density', 'other_popl', 'educational_attainment_very_advanced_degrees', 'household_type_married_count', 'household_type_single_male_count'\n",
    "* 'population_density', 'marital_status_married', 'black_popl', 'other_popl', 'educational_attainment_very_advanced_degrees'\n",
    "* 'population_density', 'marital_status_married', 'black_popl', 'other_popl', 'Age_80_older'"
   ]
  },
  {
   "cell_type": "code",
   "execution_count": 10,
   "metadata": {},
   "outputs": [
    {
     "name": "stdout",
     "output_type": "stream",
     "text": [
      "Feature list: 1\n",
      "Average Accuracy: 0.5881765480895917\n",
      "Feature list: 2\n",
      "Average Accuracy: 0.6373860342556003\n",
      "Feature list: 3\n",
      "Average Accuracy: 0.658728966685493\n",
      "Feature list: 4\n",
      "Average Accuracy: 0.6713307923960222\n"
     ]
    }
   ],
   "source": [
    "featurelist1 = ['bike_score', 'population_density', 'other_popl', 'household_type_married_count', 'household_type_one_person_count']\n",
    "featurelist2 = ['population_density', 'other_popl', 'educational_attainment_very_advanced_degrees', 'household_type_married_count', 'household_type_single_male_count']\n",
    "featurelist3 = ['population_density', 'marital_status_married', 'black_popl', 'other_popl', 'educational_attainment_very_advanced_degrees']\n",
    "featurelist4 = ['population_density', 'marital_status_married', 'black_popl', 'other_popl', 'Age_80_older']\n",
    "featurelists = [featurelist1, featurelist2, featurelist3, featurelist4]\n",
    "    \n",
    "selectFridgeXs = [np.array(dfScaled[['Ones',*lists]]) for lists in featurelists]\n",
    "selectFridgeYs = np.array(dfScaled['fridge_count']).reshape(-1,1)\n",
    "dim = selectFridgeXs[0].shape[1]\n",
    "\n",
    "accList = []\n",
    "testcount=3\n",
    "count = 1\n",
    "for Xs in selectFridgeXs:\n",
    "    for k in range(500):\n",
    "        trainIndices = random.sample(list(np.arange(Xs.shape[0])),testcount)\n",
    "        trainIndices = [*trainIndices,0,1] #Need to include at least one class 1 and 0 in training.\n",
    "        testIndices = [i for i in range(Xs.shape[0]) if i not in trainIndices]\n",
    "        fridgeXTrain = Xs[trainIndices]\n",
    "        fridgeXTest = Xs[testIndices]\n",
    "        fridgeYTrain = selectFridgeYs[trainIndices]\n",
    "        fridgeYTest = selectFridgeYs[testIndices]\n",
    "\n",
    "        clf = LogisticRegression(solver='newton-cg',penalty='none').fit(fridgeXTrain, fridgeYTrain.ravel())\n",
    "        predSK = clf.predict(fridgeXTest)\n",
    "        accList.append((len(predSK)-abs(predSK.reshape(-1,1)-fridgeYTest).sum())/len(predSK))\n",
    "    print(\"Feature list: \"+str(count))\n",
    "    print(\"Average Accuracy: \"+str(sum(accList)/len(accList)))\n",
    "    count = count +1"
   ]
  },
  {
   "cell_type": "markdown",
   "metadata": {},
   "source": [
    "Fascinating, that selecting features for KNN to provide high accuracies does not imply that the same feature set will perform well with logistic regression.  In fact, these featuresets perform terribly by comparison.  Fascinating, and cautionary.  I'm not sure why I assumed this, but I'm glad to be put in my place.  Learning is not that straightforward."
   ]
  },
  {
   "cell_type": "markdown",
   "metadata": {},
   "source": [
    "#### Conclusion\n",
    "In regards to my implementations, slower.  But, it looks like my methods work and are comparable in accuracy to the prebuilt ones.  That's encouraging.  I am very thankful for the ladies and gentlemen that have built all of what I did (and more and in more efficient ways) so that I can write three lines of code instead of spending multiple days hashing this out.  \n",
    "\n",
    "In regards to my project with KNN on socioeconomic data, while I would have learned a lot about logistic regression in and had great results out of the gate I am glad to have compared the two after the fact.  There are very good points to draw from this brief venture.\n",
    "\n",
    "Overall, this was a good experience for the learning that took place."
   ]
  },
  {
   "cell_type": "code",
   "execution_count": null,
   "metadata": {},
   "outputs": [],
   "source": []
  }
 ],
 "metadata": {
  "kernelspec": {
   "display_name": "Python 3",
   "language": "python",
   "name": "python3"
  },
  "language_info": {
   "codemirror_mode": {
    "name": "ipython",
    "version": 3
   },
   "file_extension": ".py",
   "mimetype": "text/x-python",
   "name": "python",
   "nbconvert_exporter": "python",
   "pygments_lexer": "ipython3",
   "version": "3.7.4"
  }
 },
 "nbformat": 4,
 "nbformat_minor": 4
}
